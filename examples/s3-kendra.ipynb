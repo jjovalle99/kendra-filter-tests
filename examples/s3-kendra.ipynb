{
 "cells": [
  {
   "cell_type": "markdown",
   "metadata": {},
   "source": [
    "#### Librerias"
   ]
  },
  {
   "cell_type": "code",
   "execution_count": 1,
   "metadata": {},
   "outputs": [],
   "source": [
    "import os\n",
    "import json\n",
    "import boto3"
   ]
  },
  {
   "cell_type": "markdown",
   "metadata": {},
   "source": [
    "### Creds"
   ]
  },
  {
   "cell_type": "code",
   "execution_count": 2,
   "metadata": {},
   "outputs": [],
   "source": [
    "aws_access_key = os.getenv(\"AWS_ACCESS_KEY\")\n",
    "aws_secret_access_key = os.getenv(\"AWS_SECRET_ACCESS_KEY\")\n",
    "aws_region = os.getenv(\"AWS_REGION\")"
   ]
  },
  {
   "cell_type": "markdown",
   "metadata": {},
   "source": [
    "#### Boto3 Session"
   ]
  },
  {
   "cell_type": "code",
   "execution_count": 3,
   "metadata": {},
   "outputs": [],
   "source": [
    "session = boto3.Session(\n",
    "    aws_access_key_id=aws_access_key,\n",
    "    aws_secret_access_key=aws_secret_access_key,\n",
    "    region_name=aws_region\n",
    ")"
   ]
  },
  {
   "cell_type": "markdown",
   "metadata": {},
   "source": [
    "#### S3 Metadata"
   ]
  },
  {
   "cell_type": "code",
   "execution_count": 4,
   "metadata": {},
   "outputs": [],
   "source": [
    "s3 = session.client(service_name=\"s3\")"
   ]
  },
  {
   "cell_type": "code",
   "execution_count": 5,
   "metadata": {},
   "outputs": [
    {
     "data": {
      "text/plain": [
       "[{'Key': 'mrl.pdf.metadata.json'}, {'Key': 'memgpt.pdf.metadata.json'}]"
      ]
     },
     "execution_count": 5,
     "metadata": {},
     "output_type": "execute_result"
    }
   ],
   "source": [
    "s3.delete_objects(\n",
    "    Bucket=\"kendra-filter\",\n",
    "    Delete={\"Objects\": [{\"Key\": \"memgpt.pdf.metadata.json\"}, {\"Key\": \"mrl.pdf.metadata.json\"}]}\n",
    ")[\"Deleted\"]"
   ]
  },
  {
   "cell_type": "code",
   "execution_count": 6,
   "metadata": {},
   "outputs": [
    {
     "data": {
      "text/plain": [
       "[{'Key': 'memgpt.pdf',\n",
       "  'LastModified': datetime.datetime(2024, 7, 16, 21, 7, 39, tzinfo=tzlocal()),\n",
       "  'ETag': '\"16e65f7cc5c1d647eb6acffdf085ce62\"',\n",
       "  'Size': 663708,\n",
       "  'StorageClass': 'STANDARD'},\n",
       " {'Key': 'mrl.pdf',\n",
       "  'LastModified': datetime.datetime(2024, 7, 16, 21, 7, 39, tzinfo=tzlocal()),\n",
       "  'ETag': '\"f3080a3cb92f92fb71fa3d7095b7c8e1\"',\n",
       "  'Size': 7006007,\n",
       "  'StorageClass': 'STANDARD'}]"
      ]
     },
     "execution_count": 6,
     "metadata": {},
     "output_type": "execute_result"
    }
   ],
   "source": [
    "s3.list_objects_v2(Bucket=\"kendra-filter\")[\"Contents\"]"
   ]
  },
  {
   "cell_type": "code",
   "execution_count": 7,
   "metadata": {},
   "outputs": [],
   "source": [
    "s3.upload_file(Filename=\"../assets/s3/memgpt.pdf.metadata.json\", Bucket=\"kendra-filter\", Key=\"memgpt.pdf.metadata.json\")\n",
    "s3.upload_file(Filename=\"../assets/s3/mrl.pdf.metadata.json\", Bucket=\"kendra-filter\", Key=\"mrl.pdf.metadata.json\")"
   ]
  },
  {
   "cell_type": "markdown",
   "metadata": {},
   "source": [
    "### Kendra"
   ]
  },
  {
   "cell_type": "code",
   "execution_count": 8,
   "metadata": {},
   "outputs": [],
   "source": [
    "kendra = session.client(service_name=\"kendra\")\n",
    "kendra_index_id = kendra.list_indices()[\"IndexConfigurationSummaryItems\"][0][\"Id\"]"
   ]
  },
  {
   "cell_type": "markdown",
   "metadata": {},
   "source": [
    "#### Mismo DataSource (S3)"
   ]
  },
  {
   "cell_type": "code",
   "execution_count": 9,
   "metadata": {},
   "outputs": [
    {
     "name": "stdout",
     "output_type": "stream",
     "text": [
      "{'Id': '81952f7d-68fe-4be7-88e3-f4883e779ca8-e91d0729-ec37-4704-892c-491640b34334', 'Type': 'ANSWER', 'Format': 'TEXT', 'AdditionalAttributes': [{'Key': 'AnswerText', 'ValueType': 'TEXT_WITH_HIGHLIGHTS_VALUE', 'Value': {'TextWithHighlightsValue': {'Text': 'nputs.\\n\\n\\n5. Conclusion\\nIn this paper, we introduced MemGPT, a novel LLM sys-\\ntem inspired by operating systems to manage the limited\\ncontext windows of large language models. By designing a\\nmemory hierarchy and control flow analogous to traditional\\nOSes, MemGPT provides the illusion of larger context re-\\nsources for LLMs. This OS-inspired approach was eval-\\nuated in two domains where existing LLM performance\\nis constrained by finite context lengths: document anal-\\nysis and conversational agents. For document analysis,\\nMemGPT could process lengthy texts well beyond the con-\\ntext limits of current LLMs by effectively paging relevant\\ncontext in and out o', 'Highlights': [{'BeginOffset': 51, 'EndOffset': 164, 'TopAnswer': False, 'Type': 'STANDARD'}, {'BeginOffset': 52, 'EndOffset': 58, 'TopAnswer': False, 'Type': 'STANDARD'}, {'BeginOffset': 255, 'EndOffset': 261, 'TopAnswer': False, 'Type': 'STANDARD'}, {'BeginOffset': 524, 'EndOffset': 530, 'TopAnswer': False, 'Type': 'STANDARD'}]}}}], 'DocumentId': 's3://kendra-filter/memgpt.pdf', 'DocumentTitle': {'Text': 'memgpt.pdf', 'Highlights': [{'BeginOffset': 0, 'EndOffset': 6, 'TopAnswer': False, 'Type': 'STANDARD'}]}, 'DocumentExcerpt': {'Text': 'nputs.\\n\\n\\n5. Conclusion\\nIn this paper, we introduced MemGPT, a novel LLM sys-\\ntem inspired by operating systems to manage the limited\\ncontext windows of large language models. By designing a\\nmemory hierarchy and control flow analogous to traditional\\nOSes, MemGPT provides the illusion of larger contex', 'Highlights': [{'BeginOffset': 0, 'EndOffset': 300, 'TopAnswer': False, 'Type': 'STANDARD'}]}, 'DocumentURI': 'https://kendra-filter.s3.amazonaws.com/memgpt.pdf', 'DocumentAttributes': [{'Key': '_source_uri', 'Value': {'StringValue': 'https://kendra-filter.s3.amazonaws.com/memgpt.pdf'}}, {'Key': '_excerpt_page_number', 'Value': {'LongValue': 8}}], 'ScoreAttributes': {'ScoreConfidence': 'HIGH'}, 'FeedbackToken': 'AYADePfR4xGUiP2tC5sJ78NyUwIAXwABABVhd3MtY3J5cHRvLXB1YmxpYy1rZXkAREF0bXZrYXNUNktqblkyUll5NXpXZSsrN0xSVmltdWROSnB4dkhhZFNMeHBpTGwxdlZXTDFLRG5uZGc2elNtcDR6UT09AAEAB2F3cy1rbXMAS2Fybjphd3M6a21zOnVzLWVhc3QtMTo3OTQyODk5MjcwNzA6a2V5LzA4YjVkYTRmLWQyOWEtNDU3Mi04OTAwLTRkZjMzN2VjYzljYwC4AQIBAHjHtYTqclWDjf5WL-m_xsZq1b9mncgz9KNLQr3u2EEmpAG9VcAinrFcoGaEQa8kscx0AAAAfjB8BgkqhkiG9w0BBwagbzBtAgEAMGgGCSqGSIb3DQEHATAeBglghkgBZQMEAS4wEQQMnReDOjcQMP2PIuHyAgEQgDt17hmPNYX63qQZnl7XoyebSS-yhXUO2umuGtN4HCy76QTBtmFWL_yf4GoJQ23h00VDChuvlIQSeGhVbgIAAAAADAAAEAAAAAAAAAAAAAAAAABadZLHdB93cZsPZD8kl82Z_____wAAAAEAAAAAAAAAAAAAAAEAAAF26v58fvCS8jOKYHgHdZlly502xsOTTW-gcAryCMoqRPNHD1_0ZNNfF37J7tJaSytFqFQy9WjzIS16zoaydYzngjB72Oo3K27B2LPW7IHD4FWNu47mwHS2wZGjN5pvAEv6sNBJ0piPaB_NQQbpxj2ajS8ek2ujorwg6ZbMF68yq3_G-XeGZIzwGQmH6IZdU6yWA6p_DZsGWZy7IY8-2IH_ie4IxdVW7VcT1v1D7z46VssMm-f4cbBYggKXycocZg9QbzFfczgTSylwPudS5pQk0Atirva-NBFHGFSpzKcXvRDbHUBUN-FtP75ami0NpuwuBmuESGo4YrdEnds4WJ947JK0a4cw_q5zC86JdKdPWvil4YlfXTXBGWcpzmGi3xHMST7g7miZ0EotJSYd2HHEdXOB8EEdHUzclh3Ih2b20bTzNgGpJU8-k2JZkFZXmaJzUTYaELv-qNShWEfh8Va7wQ1neE1kI7kL9xBG4w4VAqBdyfw6LhQSEin_iOQSnKM5Z3Px2F_LAGcwZQIxAKu943QaEIX905f5IHOCbdv60_jMVT0hB6tMQfyomWt03BPzoZmDYHi6KBgMmG0I7QIwJVCLPiC6I6f7AH2wksLs4epfV5iTxwBijMZGBShuzjQ_9Tj_oGCXxNZbY0NCPXtv.81952f7d-68fe-4be7-88e3-f4883e779ca8-e91d0729-ec37-4704-892c-491640b34334'}\n",
      "{'Id': '81952f7d-68fe-4be7-88e3-f4883e779ca8-cfd25871-8690-4b5c-9f60-e24cae15bf05', 'Type': 'ANSWER', 'Format': 'TEXT', 'AdditionalAttributes': [{'Key': 'AnswerText', 'ValueType': 'TEXT_WITH_HIGHLIGHTS_VALUE', 'Value': {'TextWithHighlightsValue': {'Text': 'Using this technique, we introduce\\nMemGPT (MemoryGPT), a system that intelli-\\ngently manages different storage tiers in order\\nto effectively provide extended context within\\nthe LLM’s limited context window. We evalu-\\nate our OS-inspired design in two domains where\\nthe limited context windows of modern LLMs\\nseverely handicaps their performance: document\\nanalysis, where MemGPT is able to analyze\\nlarge documents that far exceed the underly-\\ning LLM’s context window, and multi-session\\nchat, where MemGPT can create conversational\\nagents that remember, reflect, and evolve dynam-\\nically through long-term interactions with their\\nusers.', 'Highlights': [{'BeginOffset': 55, 'EndOffset': 205, 'TopAnswer': False, 'Type': 'STANDARD'}, {'BeginOffset': 35, 'EndOffset': 41, 'TopAnswer': False, 'Type': 'STANDARD'}, {'BeginOffset': 371, 'EndOffset': 377, 'TopAnswer': False, 'Type': 'STANDARD'}, {'BeginOffset': 498, 'EndOffset': 504, 'TopAnswer': False, 'Type': 'STANDARD'}]}}}], 'DocumentId': 's3://kendra-filter/memgpt.pdf', 'DocumentTitle': {'Text': 'memgpt.pdf', 'Highlights': [{'BeginOffset': 0, 'EndOffset': 6, 'TopAnswer': False, 'Type': 'STANDARD'}]}, 'DocumentExcerpt': {'Text': 'Using this technique, we introduce\\nMemGPT (MemoryGPT), a system that intelli-\\ngently manages different storage tiers in order\\nto effectively provide extended context within\\nthe LLM’s limited context window. We evalu-\\nate our OS-inspired design in two domains where\\nthe limited context windows of mode', 'Highlights': [{'BeginOffset': 0, 'EndOffset': 300, 'TopAnswer': False, 'Type': 'STANDARD'}]}, 'DocumentURI': 'https://kendra-filter.s3.amazonaws.com/memgpt.pdf', 'DocumentAttributes': [{'Key': '_source_uri', 'Value': {'StringValue': 'https://kendra-filter.s3.amazonaws.com/memgpt.pdf'}}, {'Key': '_excerpt_page_number', 'Value': {'LongValue': 1}}], 'ScoreAttributes': {'ScoreConfidence': 'HIGH'}, 'FeedbackToken': 'AYADePfR4xGUiP2tC5sJ78NyUwIAXwABABVhd3MtY3J5cHRvLXB1YmxpYy1rZXkAREF0bXZrYXNUNktqblkyUll5NXpXZSsrN0xSVmltdWROSnB4dkhhZFNMeHBpTGwxdlZXTDFLRG5uZGc2elNtcDR6UT09AAEAB2F3cy1rbXMAS2Fybjphd3M6a21zOnVzLWVhc3QtMTo3OTQyODk5MjcwNzA6a2V5LzA4YjVkYTRmLWQyOWEtNDU3Mi04OTAwLTRkZjMzN2VjYzljYwC4AQIBAHjHtYTqclWDjf5WL-m_xsZq1b9mncgz9KNLQr3u2EEmpAG9VcAinrFcoGaEQa8kscx0AAAAfjB8BgkqhkiG9w0BBwagbzBtAgEAMGgGCSqGSIb3DQEHATAeBglghkgBZQMEAS4wEQQMnReDOjcQMP2PIuHyAgEQgDt17hmPNYX63qQZnl7XoyebSS-yhXUO2umuGtN4HCy76QTBtmFWL_yf4GoJQ23h00VDChuvlIQSeGhVbgIAAAAADAAAEAAAAAAAAAAAAAAAAABadZLHdB93cZsPZD8kl82Z_____wAAAAEAAAAAAAAAAAAAAAEAAAF26v58fvCS8jOKYHgHdZlly502xsOTTW-gcAryCMoqRPNHD1_0ZNNfF37J7tJaSytFqFQy9WjzIS16zoaydYzngjB72Oo3K27B2LPW7IHD4FWNu47mwHS2wZGjN5pvAEv6sNBJ0piPaB_NQQbpxj2ajS8ek2ujorwg6ZbMF68yq3_G-XeGZIzwGQmH6IZdU6yWA6p_DZsGWZy7IY8-2IH_ie4IxdVW7VcT1v1D7z46VssMm-f4cbBYggKXycocZg9QbzFfczgTSylwPudS5pQk0Atirva-NBFHGFSpzKcXvRDbHUBUN-FtP75ami0NpuwuBmuESGo4YrdEnds4WJ947JK0a4cw_q5zC86JdKdPWvil4YlfXTXBGWcpzmGi3xHMST7g7miZ0EotJSYd2HHEdXOB8EEdHUzclh3Ih2b20bTzNgGpJU8-k2JZkFZXmaJzUTYaELv-qNShWEfh8Va7wQ1neE1kI7kL9xBG4w4VAqBdyfw6LhQSEin_iOQSnKM5Z3Px2F_LAGcwZQIxAKu943QaEIX905f5IHOCbdv60_jMVT0hB6tMQfyomWt03BPzoZmDYHi6KBgMmG0I7QIwJVCLPiC6I6f7AH2wksLs4epfV5iTxwBijMZGBShuzjQ_9Tj_oGCXxNZbY0NCPXtv.81952f7d-68fe-4be7-88e3-f4883e779ca8-cfd25871-8690-4b5c-9f60-e24cae15bf05'}\n",
      "{'Id': '81952f7d-68fe-4be7-88e3-f4883e779ca8-bf97287e-5c82-415c-b282-5f943e624dd0', 'Type': 'DOCUMENT', 'Format': 'TEXT', 'AdditionalAttributes': [], 'DocumentId': 's3://kendra-filter/memgpt.pdf', 'DocumentTitle': {'Text': 'memgpt.pdf', 'Highlights': [{'BeginOffset': 0, 'EndOffset': 6, 'TopAnswer': False, 'Type': 'STANDARD'}]}, 'DocumentExcerpt': {'Text': '...2023)). In prac-\\ntice, we notice that the generated responses (from both\\nMemGPT and the baselines) were generally more verbose\\nthan the gold responses. We use the ROUGE-L recall (R)\\nmetric to account for the verbosity of the...', 'Highlights': [{'BeginOffset': 76, 'EndOffset': 82, 'TopAnswer': False, 'Type': 'STANDARD'}]}, 'DocumentURI': 'https://kendra-filter.s3.amazonaws.com/memgpt.pdf', 'DocumentAttributes': [{'Key': '_source_uri', 'Value': {'StringValue': 'https://kendra-filter.s3.amazonaws.com/memgpt.pdf'}}, {'Key': '_excerpt_page_number', 'Value': {'LongValue': 5}}], 'ScoreAttributes': {'ScoreConfidence': 'MEDIUM'}, 'FeedbackToken': 'AYADePfR4xGUiP2tC5sJ78NyUwIAXwABABVhd3MtY3J5cHRvLXB1YmxpYy1rZXkAREF0bXZrYXNUNktqblkyUll5NXpXZSsrN0xSVmltdWROSnB4dkhhZFNMeHBpTGwxdlZXTDFLRG5uZGc2elNtcDR6UT09AAEAB2F3cy1rbXMAS2Fybjphd3M6a21zOnVzLWVhc3QtMTo3OTQyODk5MjcwNzA6a2V5LzA4YjVkYTRmLWQyOWEtNDU3Mi04OTAwLTRkZjMzN2VjYzljYwC4AQIBAHjHtYTqclWDjf5WL-m_xsZq1b9mncgz9KNLQr3u2EEmpAG9VcAinrFcoGaEQa8kscx0AAAAfjB8BgkqhkiG9w0BBwagbzBtAgEAMGgGCSqGSIb3DQEHATAeBglghkgBZQMEAS4wEQQMnReDOjcQMP2PIuHyAgEQgDt17hmPNYX63qQZnl7XoyebSS-yhXUO2umuGtN4HCy76QTBtmFWL_yf4GoJQ23h00VDChuvlIQSeGhVbgIAAAAADAAAEAAAAAAAAAAAAAAAAABadZLHdB93cZsPZD8kl82Z_____wAAAAEAAAAAAAAAAAAAAAEAAAF26v58fvCS8jOKYHgHdZlly502xsOTTW-gcAryCMoqRPNHD1_0ZNNfF37J7tJaSytFqFQy9WjzIS16zoaydYzngjB72Oo3K27B2LPW7IHD4FWNu47mwHS2wZGjN5pvAEv6sNBJ0piPaB_NQQbpxj2ajS8ek2ujorwg6ZbMF68yq3_G-XeGZIzwGQmH6IZdU6yWA6p_DZsGWZy7IY8-2IH_ie4IxdVW7VcT1v1D7z46VssMm-f4cbBYggKXycocZg9QbzFfczgTSylwPudS5pQk0Atirva-NBFHGFSpzKcXvRDbHUBUN-FtP75ami0NpuwuBmuESGo4YrdEnds4WJ947JK0a4cw_q5zC86JdKdPWvil4YlfXTXBGWcpzmGi3xHMST7g7miZ0EotJSYd2HHEdXOB8EEdHUzclh3Ih2b20bTzNgGpJU8-k2JZkFZXmaJzUTYaELv-qNShWEfh8Va7wQ1neE1kI7kL9xBG4w4VAqBdyfw6LhQSEin_iOQSnKM5Z3Px2F_LAGcwZQIxAKu943QaEIX905f5IHOCbdv60_jMVT0hB6tMQfyomWt03BPzoZmDYHi6KBgMmG0I7QIwJVCLPiC6I6f7AH2wksLs4epfV5iTxwBijMZGBShuzjQ_9Tj_oGCXxNZbY0NCPXtv.81952f7d-68fe-4be7-88e3-f4883e779ca8-bf97287e-5c82-415c-b282-5f943e624dd0'}\n"
     ]
    }
   ],
   "source": [
    "# Sin UserContext\n",
    "result = kendra.query(\n",
    "    IndexId=kendra_index_id,\n",
    "    QueryText=\"What is MemGPT?\",\n",
    ")\n",
    "for r in result[\"ResultItems\"]:\n",
    "    print(r)"
   ]
  },
  {
   "cell_type": "code",
   "execution_count": 10,
   "metadata": {},
   "outputs": [
    {
     "name": "stdout",
     "output_type": "stream",
     "text": [
      "{'Id': 'd7d97f61-567f-4719-8969-031e6043be18-f571282d-128b-40db-af11-afa1ecd782de', 'Type': 'ANSWER', 'Format': 'TEXT', 'AdditionalAttributes': [{'Key': 'AnswerText', 'ValueType': 'TEXT_WITH_HIGHLIGHTS_VALUE', 'Value': {'TextWithHighlightsValue': {'Text': 'nputs.\\n\\n\\n5. Conclusion\\nIn this paper, we introduced MemGPT, a novel LLM sys-\\ntem inspired by operating systems to manage the limited\\ncontext windows of large language models. By designing a\\nmemory hierarchy and control flow analogous to traditional\\nOSes, MemGPT provides the illusion of larger context re-\\nsources for LLMs. This OS-inspired approach was eval-\\nuated in two domains where existing LLM performance\\nis constrained by finite context lengths: document anal-\\nysis and conversational agents. For document analysis,\\nMemGPT could process lengthy texts well beyond the con-\\ntext limits of current LLMs by effectively paging relevant\\ncontext in and out o', 'Highlights': [{'BeginOffset': 51, 'EndOffset': 164, 'TopAnswer': False, 'Type': 'STANDARD'}, {'BeginOffset': 52, 'EndOffset': 58, 'TopAnswer': False, 'Type': 'STANDARD'}, {'BeginOffset': 255, 'EndOffset': 261, 'TopAnswer': False, 'Type': 'STANDARD'}, {'BeginOffset': 524, 'EndOffset': 530, 'TopAnswer': False, 'Type': 'STANDARD'}]}}}], 'DocumentId': 's3://kendra-filter/memgpt.pdf', 'DocumentTitle': {'Text': 'memgpt.pdf', 'Highlights': [{'BeginOffset': 0, 'EndOffset': 6, 'TopAnswer': False, 'Type': 'STANDARD'}]}, 'DocumentExcerpt': {'Text': 'nputs.\\n\\n\\n5. Conclusion\\nIn this paper, we introduced MemGPT, a novel LLM sys-\\ntem inspired by operating systems to manage the limited\\ncontext windows of large language models. By designing a\\nmemory hierarchy and control flow analogous to traditional\\nOSes, MemGPT provides the illusion of larger contex', 'Highlights': [{'BeginOffset': 0, 'EndOffset': 300, 'TopAnswer': False, 'Type': 'STANDARD'}]}, 'DocumentURI': 'https://kendra-filter.s3.amazonaws.com/memgpt.pdf', 'DocumentAttributes': [{'Key': '_source_uri', 'Value': {'StringValue': 'https://kendra-filter.s3.amazonaws.com/memgpt.pdf'}}, {'Key': '_excerpt_page_number', 'Value': {'LongValue': 8}}], 'ScoreAttributes': {'ScoreConfidence': 'HIGH'}, 'FeedbackToken': 'AYADeAOYrzep-FNzhGT4cdxH_mcAXwABABVhd3MtY3J5cHRvLXB1YmxpYy1rZXkAREF0bXZrYXNUNktqblkyUll5NXpXZSsrN0xSVmltdWROSnB4dkhhZFNMeHBpTGwxdlZXTDFLRG5uZGc2elNtcDR6UT09AAEAB2F3cy1rbXMAS2Fybjphd3M6a21zOnVzLWVhc3QtMTo3OTQyODk5MjcwNzA6a2V5LzA4YjVkYTRmLWQyOWEtNDU3Mi04OTAwLTRkZjMzN2VjYzljYwC4AQIBAHjHtYTqclWDjf5WL-m_xsZq1b9mncgz9KNLQr3u2EEmpAG9VcAinrFcoGaEQa8kscx0AAAAfjB8BgkqhkiG9w0BBwagbzBtAgEAMGgGCSqGSIb3DQEHATAeBglghkgBZQMEAS4wEQQMnReDOjcQMP2PIuHyAgEQgDt17hmPNYX63qQZnl7XoyebSS-yhXUO2umuGtN4HCy76QTBtmFWL_yf4GoJQ23h00VDChuvlIQSeGhVbgIAAAAADAAAEAAAAAAAAAAAAAAAAADy8m6W9dPFujsnwptsUr5R_____wAAAAEAAAAAAAAAAAAAAAEAAAF2zEqmdfHDZTgqSKFYiH3u2bpx3BdTaCpQ2HsOBZqMKO4nH84z_CqH6yYIVmGMFIQW2L0bVMeD7t6J_EEJOTy1UeNjxW8567-H6aTfaudwqUNsmjc6T-TTbMYW5PS90CDBQbiXWpt50y7U1VTy5xsF3jJsMfH0pVOkDA5y7AwZgNcbmEMPqRm2LAu12JzMZ8dAZR1PiJO09IqA8iLravRMh1FYurudtkH0H8nDI2mMFwZtmN-rakklPLm3QWJ9hdj6vVdg7sUsxUs7CR9QyHSuI7yd3fIX2y1ub5wXFgo6d8PCHvAPNHXJRmG9dH1V_C0xk9JJVNrmaEXtkRA4YYGZQv1qbCgcT2KNJlClpVgnfyvOx0SROwTcpD_DrhN3gzmaNoY3ul8IPta9VlMk5aQl8zkmFJ_6XeqiKZGELoT_9cotv9vsrBC0A4UwCscRdzvgaIh3-2-j322-VGOnLQEEdrRnqTNyd0pXwtlIpZHFutd2VOZrVnTj1TfBzhHmXeDz6_-vJ1r7AGcwZQIxAK4VS-0GAWyo6yPjhgZ_N2p2SjHlvDnoe_qVdN84K_MI7mGC6CaeEihIvp0Xdz-HDwIwbaiaUPj8NJai2py45Qg9PZfuVpVU1QumQcNT46HI-vW-lSBXxpqcyp5bzZjxrHuC.d7d97f61-567f-4719-8969-031e6043be18-f571282d-128b-40db-af11-afa1ecd782de'}\n",
      "{'Id': 'd7d97f61-567f-4719-8969-031e6043be18-0f741f15-1349-4e73-a500-f68a6a1703bc', 'Type': 'ANSWER', 'Format': 'TEXT', 'AdditionalAttributes': [{'Key': 'AnswerText', 'ValueType': 'TEXT_WITH_HIGHLIGHTS_VALUE', 'Value': {'TextWithHighlightsValue': {'Text': 'Using this technique, we introduce\\nMemGPT (MemoryGPT), a system that intelli-\\ngently manages different storage tiers in order\\nto effectively provide extended context within\\nthe LLM’s limited context window. We evalu-\\nate our OS-inspired design in two domains where\\nthe limited context windows of modern LLMs\\nseverely handicaps their performance: document\\nanalysis, where MemGPT is able to analyze\\nlarge documents that far exceed the underly-\\ning LLM’s context window, and multi-session\\nchat, where MemGPT can create conversational\\nagents that remember, reflect, and evolve dynam-\\nically through long-term interactions with their\\nusers.', 'Highlights': [{'BeginOffset': 55, 'EndOffset': 205, 'TopAnswer': False, 'Type': 'STANDARD'}, {'BeginOffset': 35, 'EndOffset': 41, 'TopAnswer': False, 'Type': 'STANDARD'}, {'BeginOffset': 371, 'EndOffset': 377, 'TopAnswer': False, 'Type': 'STANDARD'}, {'BeginOffset': 498, 'EndOffset': 504, 'TopAnswer': False, 'Type': 'STANDARD'}]}}}], 'DocumentId': 's3://kendra-filter/memgpt.pdf', 'DocumentTitle': {'Text': 'memgpt.pdf', 'Highlights': [{'BeginOffset': 0, 'EndOffset': 6, 'TopAnswer': False, 'Type': 'STANDARD'}]}, 'DocumentExcerpt': {'Text': 'Using this technique, we introduce\\nMemGPT (MemoryGPT), a system that intelli-\\ngently manages different storage tiers in order\\nto effectively provide extended context within\\nthe LLM’s limited context window. We evalu-\\nate our OS-inspired design in two domains where\\nthe limited context windows of mode', 'Highlights': [{'BeginOffset': 0, 'EndOffset': 300, 'TopAnswer': False, 'Type': 'STANDARD'}]}, 'DocumentURI': 'https://kendra-filter.s3.amazonaws.com/memgpt.pdf', 'DocumentAttributes': [{'Key': '_source_uri', 'Value': {'StringValue': 'https://kendra-filter.s3.amazonaws.com/memgpt.pdf'}}, {'Key': '_excerpt_page_number', 'Value': {'LongValue': 1}}], 'ScoreAttributes': {'ScoreConfidence': 'HIGH'}, 'FeedbackToken': 'AYADeAOYrzep-FNzhGT4cdxH_mcAXwABABVhd3MtY3J5cHRvLXB1YmxpYy1rZXkAREF0bXZrYXNUNktqblkyUll5NXpXZSsrN0xSVmltdWROSnB4dkhhZFNMeHBpTGwxdlZXTDFLRG5uZGc2elNtcDR6UT09AAEAB2F3cy1rbXMAS2Fybjphd3M6a21zOnVzLWVhc3QtMTo3OTQyODk5MjcwNzA6a2V5LzA4YjVkYTRmLWQyOWEtNDU3Mi04OTAwLTRkZjMzN2VjYzljYwC4AQIBAHjHtYTqclWDjf5WL-m_xsZq1b9mncgz9KNLQr3u2EEmpAG9VcAinrFcoGaEQa8kscx0AAAAfjB8BgkqhkiG9w0BBwagbzBtAgEAMGgGCSqGSIb3DQEHATAeBglghkgBZQMEAS4wEQQMnReDOjcQMP2PIuHyAgEQgDt17hmPNYX63qQZnl7XoyebSS-yhXUO2umuGtN4HCy76QTBtmFWL_yf4GoJQ23h00VDChuvlIQSeGhVbgIAAAAADAAAEAAAAAAAAAAAAAAAAADy8m6W9dPFujsnwptsUr5R_____wAAAAEAAAAAAAAAAAAAAAEAAAF2zEqmdfHDZTgqSKFYiH3u2bpx3BdTaCpQ2HsOBZqMKO4nH84z_CqH6yYIVmGMFIQW2L0bVMeD7t6J_EEJOTy1UeNjxW8567-H6aTfaudwqUNsmjc6T-TTbMYW5PS90CDBQbiXWpt50y7U1VTy5xsF3jJsMfH0pVOkDA5y7AwZgNcbmEMPqRm2LAu12JzMZ8dAZR1PiJO09IqA8iLravRMh1FYurudtkH0H8nDI2mMFwZtmN-rakklPLm3QWJ9hdj6vVdg7sUsxUs7CR9QyHSuI7yd3fIX2y1ub5wXFgo6d8PCHvAPNHXJRmG9dH1V_C0xk9JJVNrmaEXtkRA4YYGZQv1qbCgcT2KNJlClpVgnfyvOx0SROwTcpD_DrhN3gzmaNoY3ul8IPta9VlMk5aQl8zkmFJ_6XeqiKZGELoT_9cotv9vsrBC0A4UwCscRdzvgaIh3-2-j322-VGOnLQEEdrRnqTNyd0pXwtlIpZHFutd2VOZrVnTj1TfBzhHmXeDz6_-vJ1r7AGcwZQIxAK4VS-0GAWyo6yPjhgZ_N2p2SjHlvDnoe_qVdN84K_MI7mGC6CaeEihIvp0Xdz-HDwIwbaiaUPj8NJai2py45Qg9PZfuVpVU1QumQcNT46HI-vW-lSBXxpqcyp5bzZjxrHuC.d7d97f61-567f-4719-8969-031e6043be18-0f741f15-1349-4e73-a500-f68a6a1703bc'}\n",
      "{'Id': 'd7d97f61-567f-4719-8969-031e6043be18-dfb12cf8-e303-4da6-a5a4-c2b26c65aa47', 'Type': 'DOCUMENT', 'Format': 'TEXT', 'AdditionalAttributes': [], 'DocumentId': 's3://kendra-filter/memgpt.pdf', 'DocumentTitle': {'Text': 'memgpt.pdf', 'Highlights': [{'BeginOffset': 0, 'EndOffset': 6, 'TopAnswer': False, 'Type': 'STANDARD'}]}, 'DocumentExcerpt': {'Text': '...2023)). In prac-\\ntice, we notice that the generated responses (from both\\nMemGPT and the baselines) were generally more verbose\\nthan the gold responses. We use the ROUGE-L recall (R)\\nmetric to account for the verbosity of the...', 'Highlights': [{'BeginOffset': 76, 'EndOffset': 82, 'TopAnswer': False, 'Type': 'STANDARD'}]}, 'DocumentURI': 'https://kendra-filter.s3.amazonaws.com/memgpt.pdf', 'DocumentAttributes': [{'Key': '_source_uri', 'Value': {'StringValue': 'https://kendra-filter.s3.amazonaws.com/memgpt.pdf'}}, {'Key': '_excerpt_page_number', 'Value': {'LongValue': 5}}], 'ScoreAttributes': {'ScoreConfidence': 'MEDIUM'}, 'FeedbackToken': 'AYADeAOYrzep-FNzhGT4cdxH_mcAXwABABVhd3MtY3J5cHRvLXB1YmxpYy1rZXkAREF0bXZrYXNUNktqblkyUll5NXpXZSsrN0xSVmltdWROSnB4dkhhZFNMeHBpTGwxdlZXTDFLRG5uZGc2elNtcDR6UT09AAEAB2F3cy1rbXMAS2Fybjphd3M6a21zOnVzLWVhc3QtMTo3OTQyODk5MjcwNzA6a2V5LzA4YjVkYTRmLWQyOWEtNDU3Mi04OTAwLTRkZjMzN2VjYzljYwC4AQIBAHjHtYTqclWDjf5WL-m_xsZq1b9mncgz9KNLQr3u2EEmpAG9VcAinrFcoGaEQa8kscx0AAAAfjB8BgkqhkiG9w0BBwagbzBtAgEAMGgGCSqGSIb3DQEHATAeBglghkgBZQMEAS4wEQQMnReDOjcQMP2PIuHyAgEQgDt17hmPNYX63qQZnl7XoyebSS-yhXUO2umuGtN4HCy76QTBtmFWL_yf4GoJQ23h00VDChuvlIQSeGhVbgIAAAAADAAAEAAAAAAAAAAAAAAAAADy8m6W9dPFujsnwptsUr5R_____wAAAAEAAAAAAAAAAAAAAAEAAAF2zEqmdfHDZTgqSKFYiH3u2bpx3BdTaCpQ2HsOBZqMKO4nH84z_CqH6yYIVmGMFIQW2L0bVMeD7t6J_EEJOTy1UeNjxW8567-H6aTfaudwqUNsmjc6T-TTbMYW5PS90CDBQbiXWpt50y7U1VTy5xsF3jJsMfH0pVOkDA5y7AwZgNcbmEMPqRm2LAu12JzMZ8dAZR1PiJO09IqA8iLravRMh1FYurudtkH0H8nDI2mMFwZtmN-rakklPLm3QWJ9hdj6vVdg7sUsxUs7CR9QyHSuI7yd3fIX2y1ub5wXFgo6d8PCHvAPNHXJRmG9dH1V_C0xk9JJVNrmaEXtkRA4YYGZQv1qbCgcT2KNJlClpVgnfyvOx0SROwTcpD_DrhN3gzmaNoY3ul8IPta9VlMk5aQl8zkmFJ_6XeqiKZGELoT_9cotv9vsrBC0A4UwCscRdzvgaIh3-2-j322-VGOnLQEEdrRnqTNyd0pXwtlIpZHFutd2VOZrVnTj1TfBzhHmXeDz6_-vJ1r7AGcwZQIxAK4VS-0GAWyo6yPjhgZ_N2p2SjHlvDnoe_qVdN84K_MI7mGC6CaeEihIvp0Xdz-HDwIwbaiaUPj8NJai2py45Qg9PZfuVpVU1QumQcNT46HI-vW-lSBXxpqcyp5bzZjxrHuC.d7d97f61-567f-4719-8969-031e6043be18-dfb12cf8-e303-4da6-a5a4-c2b26c65aa47'}\n"
     ]
    }
   ],
   "source": [
    "# Con UserContext + Grupo permitido\n",
    "result = kendra.query(\n",
    "    IndexId=kendra_index_id,\n",
    "    QueryText=\"What is MemGPT?\",\n",
    "    UserContext={\n",
    "        \"Groups\": [\"analysts\"]\n",
    "    }\n",
    ")\n",
    "for r in result[\"ResultItems\"]:\n",
    "    print(r)"
   ]
  },
  {
   "cell_type": "code",
   "execution_count": 11,
   "metadata": {},
   "outputs": [],
   "source": [
    "# Con UserContext + Grupo no permitido\n",
    "result = kendra.query(\n",
    "    IndexId=kendra_index_id,\n",
    "    QueryText=\"What is MemGPT?\",\n",
    "    UserContext={\n",
    "        \"Groups\": [\"interns\"]\n",
    "    }\n",
    ")\n",
    "for r in result[\"ResultItems\"]:\n",
    "    print(r)"
   ]
  },
  {
   "cell_type": "code",
   "execution_count": 12,
   "metadata": {},
   "outputs": [],
   "source": [
    "# Con UserContext + Grupo no especificado\n",
    "result = kendra.query(\n",
    "    IndexId=kendra_index_id,\n",
    "    QueryText=\"What is MemGPT?\",\n",
    "    UserContext={\n",
    "        \"Groups\": [\"others\"]\n",
    "    }\n",
    ")\n",
    "for r in result[\"ResultItems\"]:\n",
    "    print(r)"
   ]
  },
  {
   "cell_type": "code",
   "execution_count": 14,
   "metadata": {},
   "outputs": [],
   "source": [
    "# Con UserContext + Usuario no especificado\n",
    "result = kendra.query(\n",
    "    IndexId=kendra_index_id,\n",
    "    QueryText=\"What is MemGPT?\",\n",
    "    UserContext={\n",
    "        \"UserId\": \"CEO\"\n",
    "    }\n",
    ")\n",
    "for r in result[\"ResultItems\"]:\n",
    "    print(r)"
   ]
  },
  {
   "cell_type": "code",
   "execution_count": 15,
   "metadata": {},
   "outputs": [
    {
     "name": "stdout",
     "output_type": "stream",
     "text": [
      "{'Id': '84b1018d-88ea-4d79-8163-63f47696f882-6efe0b8d-f05a-4b54-8785-79b5c174d812', 'Type': 'ANSWER', 'Format': 'TEXT', 'AdditionalAttributes': [{'Key': 'AnswerText', 'ValueType': 'TEXT_WITH_HIGHLIGHTS_VALUE', 'Value': {'TextWithHighlightsValue': {'Text': 'nputs.\\n\\n\\n5. Conclusion\\nIn this paper, we introduced MemGPT, a novel LLM sys-\\ntem inspired by operating systems to manage the limited\\ncontext windows of large language models. By designing a\\nmemory hierarchy and control flow analogous to traditional\\nOSes, MemGPT provides the illusion of larger context re-\\nsources for LLMs. This OS-inspired approach was eval-\\nuated in two domains where existing LLM performance\\nis constrained by finite context lengths: document anal-\\nysis and conversational agents. For document analysis,\\nMemGPT could process lengthy texts well beyond the con-\\ntext limits of current LLMs by effectively paging relevant\\ncontext in and out o', 'Highlights': [{'BeginOffset': 51, 'EndOffset': 164, 'TopAnswer': False, 'Type': 'STANDARD'}, {'BeginOffset': 52, 'EndOffset': 58, 'TopAnswer': False, 'Type': 'STANDARD'}, {'BeginOffset': 255, 'EndOffset': 261, 'TopAnswer': False, 'Type': 'STANDARD'}, {'BeginOffset': 524, 'EndOffset': 530, 'TopAnswer': False, 'Type': 'STANDARD'}]}}}], 'DocumentId': 's3://kendra-filter/memgpt.pdf', 'DocumentTitle': {'Text': 'memgpt.pdf', 'Highlights': [{'BeginOffset': 0, 'EndOffset': 6, 'TopAnswer': False, 'Type': 'STANDARD'}]}, 'DocumentExcerpt': {'Text': 'nputs.\\n\\n\\n5. Conclusion\\nIn this paper, we introduced MemGPT, a novel LLM sys-\\ntem inspired by operating systems to manage the limited\\ncontext windows of large language models. By designing a\\nmemory hierarchy and control flow analogous to traditional\\nOSes, MemGPT provides the illusion of larger contex', 'Highlights': [{'BeginOffset': 0, 'EndOffset': 300, 'TopAnswer': False, 'Type': 'STANDARD'}]}, 'DocumentURI': 'https://kendra-filter.s3.amazonaws.com/memgpt.pdf', 'DocumentAttributes': [{'Key': '_source_uri', 'Value': {'StringValue': 'https://kendra-filter.s3.amazonaws.com/memgpt.pdf'}}, {'Key': '_excerpt_page_number', 'Value': {'LongValue': 8}}], 'ScoreAttributes': {'ScoreConfidence': 'HIGH'}, 'FeedbackToken': 'AYADeB2vfhlGEmRWxZJoO2XmohEAXwABABVhd3MtY3J5cHRvLXB1YmxpYy1rZXkAREF5Qk5uSUs1MDgrdmhmbGE0S0g2SWZBUXREdldtZ0kybUUzN296WEpTcU8rNmNYeHJ3V3RlTW9GZTlhLzk3eWdNZz09AAEAB2F3cy1rbXMAS2Fybjphd3M6a21zOnVzLWVhc3QtMTo3OTQyODk5MjcwNzA6a2V5LzA4YjVkYTRmLWQyOWEtNDU3Mi04OTAwLTRkZjMzN2VjYzljYwC4AQIBAHjHtYTqclWDjf5WL-m_xsZq1b9mncgz9KNLQr3u2EEmpAGJQpGyhmnZ-tLNldcCaxVqAAAAfjB8BgkqhkiG9w0BBwagbzBtAgEAMGgGCSqGSIb3DQEHATAeBglghkgBZQMEAS4wEQQMFQ-k6AFD29pcRNDJAgEQgDt6CUowqa41xmkc2GG9pYf_HzjIhJAZpkeNKcdWi9XxBf9g9wnezVf77rZwSA1Ih3ATGILtsbz09BLhjgIAAAAADAAAEAAAAAAAAAAAAAAAAACTyfwjCJZg_1nxWCfDpdzQ_____wAAAAEAAAAAAAAAAAAAAAEAAAF2iv2lqwbM5JBboKFMv_IWbhpEWMQVLehdbDLllGzmsL7A5sx6TC92bUJDb5GEBuAe5H4yricsVeb5E_Ct6AjJ4JTYoMKp6jW2gmVeiWUk8xdQ-RhywExJ3y9XmcTXw8gt5A9UfpK_tTCQNxadvtiFLKwqrlwBKmxQ14FUG0YeDtq8t7bvAL9dHHmEXhWpBLvyG0xl9g4PX-3D-l-hHl4bjVcTcp4fAzGzGKYmklVEVGQhIebcCG8XQNLaYRtkyb3wWRxcIkWzkN1DuU4dy9AQ3bJQ_LaeGuAFZHfpKdHkT1GW_xL_ZdaxfswA0c485nMqMAQCv7vE10MDbRApXciblyTQS8RYuN2kwgLs2m6CsmCfBOkmCU8WuaRlFTvIcb2SFrea0Nuh6xXWP3xlPzmHZcWkR_sDEPzuLYu7vW5dzwq5STSfNa4W3h0DrKJas0hpv5BppJUMGmGXoHIjdOaxIP32uxPjYka0nOY1oJpsTXuACu9mUOy66EWxyQifBWCqvKXnGJmKAGcwZQIwHjLvUngZRtPtcpoGR2DbKCxxm721gu8EYhVOwm8dL0lVRdoTFnhIGE_A7WQDtVD2AjEA6S5-8bG_HfDWVbv_hnlru65wh55serXLzUYqY-4UlIZ6YxIVh3dhxZmU-jcK6ESy.84b1018d-88ea-4d79-8163-63f47696f882-6efe0b8d-f05a-4b54-8785-79b5c174d812'}\n",
      "{'Id': '84b1018d-88ea-4d79-8163-63f47696f882-448cfc83-8adf-46fb-a6fc-086c4ea24348', 'Type': 'ANSWER', 'Format': 'TEXT', 'AdditionalAttributes': [{'Key': 'AnswerText', 'ValueType': 'TEXT_WITH_HIGHLIGHTS_VALUE', 'Value': {'TextWithHighlightsValue': {'Text': 'Using this technique, we introduce\\nMemGPT (MemoryGPT), a system that intelli-\\ngently manages different storage tiers in order\\nto effectively provide extended context within\\nthe LLM’s limited context window. We evalu-\\nate our OS-inspired design in two domains where\\nthe limited context windows of modern LLMs\\nseverely handicaps their performance: document\\nanalysis, where MemGPT is able to analyze\\nlarge documents that far exceed the underly-\\ning LLM’s context window, and multi-session\\nchat, where MemGPT can create conversational\\nagents that remember, reflect, and evolve dynam-\\nically through long-term interactions with their\\nusers.', 'Highlights': [{'BeginOffset': 55, 'EndOffset': 205, 'TopAnswer': False, 'Type': 'STANDARD'}, {'BeginOffset': 35, 'EndOffset': 41, 'TopAnswer': False, 'Type': 'STANDARD'}, {'BeginOffset': 371, 'EndOffset': 377, 'TopAnswer': False, 'Type': 'STANDARD'}, {'BeginOffset': 498, 'EndOffset': 504, 'TopAnswer': False, 'Type': 'STANDARD'}]}}}], 'DocumentId': 's3://kendra-filter/memgpt.pdf', 'DocumentTitle': {'Text': 'memgpt.pdf', 'Highlights': [{'BeginOffset': 0, 'EndOffset': 6, 'TopAnswer': False, 'Type': 'STANDARD'}]}, 'DocumentExcerpt': {'Text': 'Using this technique, we introduce\\nMemGPT (MemoryGPT), a system that intelli-\\ngently manages different storage tiers in order\\nto effectively provide extended context within\\nthe LLM’s limited context window. We evalu-\\nate our OS-inspired design in two domains where\\nthe limited context windows of mode', 'Highlights': [{'BeginOffset': 0, 'EndOffset': 300, 'TopAnswer': False, 'Type': 'STANDARD'}]}, 'DocumentURI': 'https://kendra-filter.s3.amazonaws.com/memgpt.pdf', 'DocumentAttributes': [{'Key': '_source_uri', 'Value': {'StringValue': 'https://kendra-filter.s3.amazonaws.com/memgpt.pdf'}}, {'Key': '_excerpt_page_number', 'Value': {'LongValue': 1}}], 'ScoreAttributes': {'ScoreConfidence': 'HIGH'}, 'FeedbackToken': 'AYADeB2vfhlGEmRWxZJoO2XmohEAXwABABVhd3MtY3J5cHRvLXB1YmxpYy1rZXkAREF5Qk5uSUs1MDgrdmhmbGE0S0g2SWZBUXREdldtZ0kybUUzN296WEpTcU8rNmNYeHJ3V3RlTW9GZTlhLzk3eWdNZz09AAEAB2F3cy1rbXMAS2Fybjphd3M6a21zOnVzLWVhc3QtMTo3OTQyODk5MjcwNzA6a2V5LzA4YjVkYTRmLWQyOWEtNDU3Mi04OTAwLTRkZjMzN2VjYzljYwC4AQIBAHjHtYTqclWDjf5WL-m_xsZq1b9mncgz9KNLQr3u2EEmpAGJQpGyhmnZ-tLNldcCaxVqAAAAfjB8BgkqhkiG9w0BBwagbzBtAgEAMGgGCSqGSIb3DQEHATAeBglghkgBZQMEAS4wEQQMFQ-k6AFD29pcRNDJAgEQgDt6CUowqa41xmkc2GG9pYf_HzjIhJAZpkeNKcdWi9XxBf9g9wnezVf77rZwSA1Ih3ATGILtsbz09BLhjgIAAAAADAAAEAAAAAAAAAAAAAAAAACTyfwjCJZg_1nxWCfDpdzQ_____wAAAAEAAAAAAAAAAAAAAAEAAAF2iv2lqwbM5JBboKFMv_IWbhpEWMQVLehdbDLllGzmsL7A5sx6TC92bUJDb5GEBuAe5H4yricsVeb5E_Ct6AjJ4JTYoMKp6jW2gmVeiWUk8xdQ-RhywExJ3y9XmcTXw8gt5A9UfpK_tTCQNxadvtiFLKwqrlwBKmxQ14FUG0YeDtq8t7bvAL9dHHmEXhWpBLvyG0xl9g4PX-3D-l-hHl4bjVcTcp4fAzGzGKYmklVEVGQhIebcCG8XQNLaYRtkyb3wWRxcIkWzkN1DuU4dy9AQ3bJQ_LaeGuAFZHfpKdHkT1GW_xL_ZdaxfswA0c485nMqMAQCv7vE10MDbRApXciblyTQS8RYuN2kwgLs2m6CsmCfBOkmCU8WuaRlFTvIcb2SFrea0Nuh6xXWP3xlPzmHZcWkR_sDEPzuLYu7vW5dzwq5STSfNa4W3h0DrKJas0hpv5BppJUMGmGXoHIjdOaxIP32uxPjYka0nOY1oJpsTXuACu9mUOy66EWxyQifBWCqvKXnGJmKAGcwZQIwHjLvUngZRtPtcpoGR2DbKCxxm721gu8EYhVOwm8dL0lVRdoTFnhIGE_A7WQDtVD2AjEA6S5-8bG_HfDWVbv_hnlru65wh55serXLzUYqY-4UlIZ6YxIVh3dhxZmU-jcK6ESy.84b1018d-88ea-4d79-8163-63f47696f882-448cfc83-8adf-46fb-a6fc-086c4ea24348'}\n",
      "{'Id': '84b1018d-88ea-4d79-8163-63f47696f882-c3783fcb-d8c3-4a66-8ad8-9c1fd01a7dc9', 'Type': 'DOCUMENT', 'Format': 'TEXT', 'AdditionalAttributes': [], 'DocumentId': 's3://kendra-filter/memgpt.pdf', 'DocumentTitle': {'Text': 'memgpt.pdf', 'Highlights': [{'BeginOffset': 0, 'EndOffset': 6, 'TopAnswer': False, 'Type': 'STANDARD'}]}, 'DocumentExcerpt': {'Text': '...2023)). In prac-\\ntice, we notice that the generated responses (from both\\nMemGPT and the baselines) were generally more verbose\\nthan the gold responses. We use the ROUGE-L recall (R)\\nmetric to account for the verbosity of the...', 'Highlights': [{'BeginOffset': 76, 'EndOffset': 82, 'TopAnswer': False, 'Type': 'STANDARD'}]}, 'DocumentURI': 'https://kendra-filter.s3.amazonaws.com/memgpt.pdf', 'DocumentAttributes': [{'Key': '_source_uri', 'Value': {'StringValue': 'https://kendra-filter.s3.amazonaws.com/memgpt.pdf'}}, {'Key': '_excerpt_page_number', 'Value': {'LongValue': 5}}], 'ScoreAttributes': {'ScoreConfidence': 'MEDIUM'}, 'FeedbackToken': 'AYADeB2vfhlGEmRWxZJoO2XmohEAXwABABVhd3MtY3J5cHRvLXB1YmxpYy1rZXkAREF5Qk5uSUs1MDgrdmhmbGE0S0g2SWZBUXREdldtZ0kybUUzN296WEpTcU8rNmNYeHJ3V3RlTW9GZTlhLzk3eWdNZz09AAEAB2F3cy1rbXMAS2Fybjphd3M6a21zOnVzLWVhc3QtMTo3OTQyODk5MjcwNzA6a2V5LzA4YjVkYTRmLWQyOWEtNDU3Mi04OTAwLTRkZjMzN2VjYzljYwC4AQIBAHjHtYTqclWDjf5WL-m_xsZq1b9mncgz9KNLQr3u2EEmpAGJQpGyhmnZ-tLNldcCaxVqAAAAfjB8BgkqhkiG9w0BBwagbzBtAgEAMGgGCSqGSIb3DQEHATAeBglghkgBZQMEAS4wEQQMFQ-k6AFD29pcRNDJAgEQgDt6CUowqa41xmkc2GG9pYf_HzjIhJAZpkeNKcdWi9XxBf9g9wnezVf77rZwSA1Ih3ATGILtsbz09BLhjgIAAAAADAAAEAAAAAAAAAAAAAAAAACTyfwjCJZg_1nxWCfDpdzQ_____wAAAAEAAAAAAAAAAAAAAAEAAAF2iv2lqwbM5JBboKFMv_IWbhpEWMQVLehdbDLllGzmsL7A5sx6TC92bUJDb5GEBuAe5H4yricsVeb5E_Ct6AjJ4JTYoMKp6jW2gmVeiWUk8xdQ-RhywExJ3y9XmcTXw8gt5A9UfpK_tTCQNxadvtiFLKwqrlwBKmxQ14FUG0YeDtq8t7bvAL9dHHmEXhWpBLvyG0xl9g4PX-3D-l-hHl4bjVcTcp4fAzGzGKYmklVEVGQhIebcCG8XQNLaYRtkyb3wWRxcIkWzkN1DuU4dy9AQ3bJQ_LaeGuAFZHfpKdHkT1GW_xL_ZdaxfswA0c485nMqMAQCv7vE10MDbRApXciblyTQS8RYuN2kwgLs2m6CsmCfBOkmCU8WuaRlFTvIcb2SFrea0Nuh6xXWP3xlPzmHZcWkR_sDEPzuLYu7vW5dzwq5STSfNa4W3h0DrKJas0hpv5BppJUMGmGXoHIjdOaxIP32uxPjYka0nOY1oJpsTXuACu9mUOy66EWxyQifBWCqvKXnGJmKAGcwZQIwHjLvUngZRtPtcpoGR2DbKCxxm721gu8EYhVOwm8dL0lVRdoTFnhIGE_A7WQDtVD2AjEA6S5-8bG_HfDWVbv_hnlru65wh55serXLzUYqY-4UlIZ6YxIVh3dhxZmU-jcK6ESy.84b1018d-88ea-4d79-8163-63f47696f882-c3783fcb-d8c3-4a66-8ad8-9c1fd01a7dc9'}\n"
     ]
    }
   ],
   "source": [
    "# Con UserContext + Usuario no especificado y Grupo correcto\n",
    "result = kendra.query(\n",
    "    IndexId=kendra_index_id,\n",
    "    QueryText=\"What is MemGPT?\",\n",
    "    UserContext={\n",
    "        \"UserId\": \"CEO\",\n",
    "        \"Groups\": [\"analysts\"]\n",
    "    }\n",
    ")\n",
    "for r in result[\"ResultItems\"]:\n",
    "    print(r)"
   ]
  },
  {
   "cell_type": "markdown",
   "metadata": {},
   "source": [
    "#### Diferentes data sources (Ambos S3 Connectors)"
   ]
  },
  {
   "cell_type": "code",
   "execution_count": 19,
   "metadata": {},
   "outputs": [
    {
     "data": {
      "text/plain": [
       "[{'Name': 's3-filter-datasource2',\n",
       "  'Id': '25f58b56-387b-4419-8e06-9e4dc2c0bd83',\n",
       "  'Type': 'S3',\n",
       "  'CreatedAt': datetime.datetime(2024, 7, 17, 16, 20, 58, 572000, tzinfo=tzlocal()),\n",
       "  'UpdatedAt': datetime.datetime(2024, 7, 17, 16, 20, 58, 572000, tzinfo=tzlocal()),\n",
       "  'Status': 'ACTIVE',\n",
       "  'LanguageCode': 'en'},\n",
       " {'Name': 's3-filter-datasource3',\n",
       "  'Id': '561388be-8466-4aad-a678-ee41e3217ae3',\n",
       "  'Type': 'S3',\n",
       "  'CreatedAt': datetime.datetime(2024, 7, 17, 16, 59, 22, 391000, tzinfo=tzlocal()),\n",
       "  'UpdatedAt': datetime.datetime(2024, 7, 17, 17, 7, 16, 217000, tzinfo=tzlocal()),\n",
       "  'Status': 'ACTIVE',\n",
       "  'LanguageCode': 'en'}]"
      ]
     },
     "execution_count": 19,
     "metadata": {},
     "output_type": "execute_result"
    }
   ],
   "source": [
    "kendra.list_data_sources(IndexId=kendra_index_id)[\"SummaryItems\"]"
   ]
  },
  {
   "cell_type": "code",
   "execution_count": 16,
   "metadata": {},
   "outputs": [
    {
     "data": {
      "text/plain": [
       "[]"
      ]
     },
     "execution_count": 16,
     "metadata": {},
     "output_type": "execute_result"
    }
   ],
   "source": [
    "kendra.list_access_control_configurations(IndexId=kendra_index_id)[\"AccessControlConfigurations\"]"
   ]
  },
  {
   "cell_type": "code",
   "execution_count": 21,
   "metadata": {},
   "outputs": [
    {
     "data": {
      "text/plain": [
       "{'Id': '4oaxyxst',\n",
       " 'ResponseMetadata': {'RequestId': 'cb6abd9c-53da-4249-9227-23202ae51d3d',\n",
       "  'HTTPStatusCode': 200,\n",
       "  'HTTPHeaders': {'x-amzn-requestid': 'cb6abd9c-53da-4249-9227-23202ae51d3d',\n",
       "   'content-type': 'application/x-amz-json-1.1',\n",
       "   'content-length': '17',\n",
       "   'date': 'Wed, 17 Jul 2024 17:37:33 GMT',\n",
       "   'connection': 'close'},\n",
       "  'RetryAttempts': 0}}"
      ]
     },
     "execution_count": 21,
     "metadata": {},
     "output_type": "execute_result"
    }
   ],
   "source": [
    "kendra.create_access_control_configuration(\n",
    "    IndexId=kendra_index_id,\n",
    "    Name=\"Testing\",\n",
    "    AccessControlList=[\n",
    "        {\n",
    "            \"Access\": \"ALLOW\",\n",
    "            \"Name\": \"HR\",\n",
    "            \"Type\": \"GROUP\",\n",
    "            \"DataSourceId\": \"25f58b56-387b-4419-8e06-9e4dc2c0bd83\"\n",
    "        },\n",
    "        {\n",
    "            \"Access\": \"ALLOW\",\n",
    "            \"Name\": \"TECH\",\n",
    "            \"Type\": \"GROUP\",\n",
    "            \"DataSourceId\": \"561388be-8466-4aad-a678-ee41e3217ae3\"\n",
    "        },\n",
    "    ]\n",
    ")"
   ]
  },
  {
   "cell_type": "code",
   "execution_count": 23,
   "metadata": {},
   "outputs": [
    {
     "data": {
      "text/plain": [
       "[{'Id': '4oaxyxst'}]"
      ]
     },
     "execution_count": 23,
     "metadata": {},
     "output_type": "execute_result"
    }
   ],
   "source": [
    "kendra.list_access_control_configurations(IndexId=kendra_index_id)[\"AccessControlConfigurations\"]"
   ]
  },
  {
   "cell_type": "code",
   "execution_count": 27,
   "metadata": {},
   "outputs": [
    {
     "name": "stdout",
     "output_type": "stream",
     "text": [
      "{'Id': '7c5b44d8-adfd-4a3b-978c-1ce808d4bec9-ed24ebda-b9ef-4066-9e15-52cbd24865b1', 'Type': 'ANSWER', 'Format': 'TEXT', 'AdditionalAttributes': [{'Key': 'AnswerText', 'ValueType': 'TEXT_WITH_HIGHLIGHTS_VALUE', 'Value': {'TextWithHighlightsValue': {'Text': 'Keywords: Theoretical techniques(2093) — Galaxy dynamics(591) – Orbits(1184) — Orbit determi-\\n\\n\\nnation(1175) — Time series analysis(1916) — Exoplanet dynamics(490)\\n\\n\\n1. INTRODUCTION\\n\\n\\nPermutation Entropy and statistiCal Complexity\\n\\n\\nAnalysis for astRophYsics (PECCARY) is a statistical\\n\\n\\nmethod used to characterize a time-series as regular,\\n\\n\\nstochastic (i.e., random or noisy), or complex, and iden-\\n\\n\\ntify its relevant timescales (Bandt & Pompe 2002; Rosso\\n\\n\\net al. 2007; Weck et al. 2015).', 'Highlights': [{'BeginOffset': 184, 'EndOffset': 258, 'TopAnswer': False, 'Type': 'STANDARD'}, {'BeginOffset': 260, 'EndOffset': 267, 'TopAnswer': False, 'Type': 'STANDARD'}]}}}], 'DocumentId': 's3://kendra-filter-2/2407.11970v1.pdf', 'DocumentTitle': {'Text': '2407.11970v1.pdf', 'Highlights': []}, 'DocumentExcerpt': {'Text': 'Keywords: Theoretical techniques(2093) — Galaxy dynamics(591) – Orbits(1184) — Orbit determi-\\n\\n\\nnation(1175) — Time series analysis(1916) — Exoplanet dynamics(490)\\n\\n\\n1. INTRODUCTION\\n\\n\\nPermutation Entropy and statistiCal Complexity\\n\\n\\nAnalysis for astRophYsics (PECCARY) is a statistical\\n\\n\\nmethod used ', 'Highlights': [{'BeginOffset': 0, 'EndOffset': 300, 'TopAnswer': False, 'Type': 'STANDARD'}]}, 'DocumentURI': 'https://kendra-filter-2.s3.amazonaws.com/2407.11970v1.pdf', 'DocumentAttributes': [{'Key': '_source_uri', 'Value': {'StringValue': 'https://kendra-filter-2.s3.amazonaws.com/2407.11970v1.pdf'}}, {'Key': 's3_document_id', 'Value': {'StringValue': '2407.11970v1.pdf'}}, {'Key': '_excerpt_page_number', 'Value': {'LongValue': 1}}], 'ScoreAttributes': {'ScoreConfidence': 'HIGH'}, 'FeedbackToken': 'AYADePOi7DgDQIc4me21RSgAg8MAXwABABVhd3MtY3J5cHRvLXB1YmxpYy1rZXkAREEycDVVRGQ2QmlhWURtZ3BmaHlOa1k5cmlKN1gxSUZ5UGUrRTQ3b0FHd2FEcHRWRFN2R0t6WWhJbUlHam8zdkRRZz09AAEAB2F3cy1rbXMAS2Fybjphd3M6a21zOnVzLWVhc3QtMTo3OTQyODk5MjcwNzA6a2V5LzA4YjVkYTRmLWQyOWEtNDU3Mi04OTAwLTRkZjMzN2VjYzljYwC4AQIBAHjHtYTqclWDjf5WL-m_xsZq1b9mncgz9KNLQr3u2EEmpAHlKORkknuWYZ6LcdkWcsORAAAAfjB8BgkqhkiG9w0BBwagbzBtAgEAMGgGCSqGSIb3DQEHATAeBglghkgBZQMEAS4wEQQMT8XLA4DdO1kOez_KAgEQgDtgvJwRojj3N2VjK1PuBDuyVhvyNnHxYV1MjiXroQ5tcjR5IDtfyuibqGSD1qxivUD9kireRlq3SBDlbwIAAAAADAAAEAAAAAAAAAAAAAAAAAAHS5NG97OZGRrYSbIYhDVM_____wAAAAEAAAAAAAAAAAAAAAEAAAF2ekRth7ANuoGcnKoP6ex6RrjMqmaBq-n2F-pFfJo1FyOaz-C7KAMRD-VN4xayqdHN64FIqFx5qwpA79DpdD7-CAFAPXmfESNOcKI2iECbCPOHN370yz_2v1Lji_75YLSLK6cHnrJrYLuYAwir68rOeXDwKUviMlTn1cEpJinKVSH8YbzZOlvmPRg5slBkcWiZWN1oGxMS3qwNgdfc8-itBkk8mAjgj4qpY9dYCAvSaELnHKViG8C0jzV3NbRrXdikwBkrVPFP4xFVayu3YvKWjsouMVHlrIWciNCw0ZaYtsXcL3WW2-5-wDBihdP_luGiUrwe6hUyCEK6FQL2oxC78Lu4u_4kYGoessdWCpHKmzSg-ks-lHUR6cRDOMrg6AFzXzn1pVxCtApx2zHnOlvlDiraoh5Dso0dC2w2pAyCgsqRrc4wcfc8JBxSoka_aXekDN08bkZGURldOkqRxeYEz6eg4_BqS6ZSQD7QA4EdSJ1lmPvlgpy4yXbN4t2S_ODdsVTTFwo2AGcwZQIwZVsUaX9VRZ9gK1xth9NsrnSZAy48xON26kk5vpYMnpPN-Am2bMyPUK7i9dwfbrEkAjEA-dD8-hMtiDfeDELZuW3bgAzf1zk1haXnmLYluhzJMu6YBvsjN643sut65hFL43m0.7c5b44d8-adfd-4a3b-978c-1ce808d4bec9-ed24ebda-b9ef-4066-9e15-52cbd24865b1'}\n",
      "{'Id': '7c5b44d8-adfd-4a3b-978c-1ce808d4bec9-0f09bbd3-9059-4291-86c9-b15b22a2354e', 'Type': 'ANSWER', 'Format': 'TEXT', 'AdditionalAttributes': [{'Key': 'AnswerText', 'ValueType': 'TEXT_WITH_HIGHLIGHTS_VALUE', 'Value': {'TextWithHighlightsValue': {'Text': 'CONCLUSIONS\\n\\n\\nThis paper introduces the PECCARY method to the\\n\\n\\nastrophysics community for the first time. PECCARY is\\n\\n\\na statistical method that samples ordinal patterns from\\n\\n\\nany sort of time-series, creates a probability distribu-\\n\\n\\ntion of all possible permutations of those patterns, and\\n\\n\\ncalculates the Permutation Entropy H and Statistical\\n\\n\\nComplexity C from that distribution. The location that\\n\\n\\nthese Permutation Entropy and Statistical Complexity\\n\\n\\ncoordinate values fall on the HC-plane indicate the clas-\\n\\n\\nsification of the orbital behavior.\\n\\n\\nThis paper provides an overview of the underlying the-\\n\\n\\nory and discuss best practices for initial implementations\\n\\n\\nof the PECCARY method. This work also demonstrates\\n\\n\\nthat for pure periodic functions, the orbital period can\\n\\n\\nbe easily extracted by using the shapes and initial peak\\n\\n\\nof the H(ℓ) curves.', 'Highlights': [{'BeginOffset': 40, 'EndOffset': 47, 'TopAnswer': False, 'Type': 'STANDARD'}, {'BeginOffset': 107, 'EndOffset': 114, 'TopAnswer': False, 'Type': 'STANDARD'}, {'BeginOffset': 686, 'EndOffset': 693, 'TopAnswer': False, 'Type': 'STANDARD'}]}}}], 'DocumentId': 's3://kendra-filter-2/2407.11970v1.pdf', 'DocumentTitle': {'Text': '2407.11970v1.pdf', 'Highlights': []}, 'DocumentExcerpt': {'Text': 'CONCLUSIONS\\n\\n\\nThis paper introduces the PECCARY method to the\\n\\n\\nastrophysics community for the first time. PECCARY is\\n\\n\\na statistical method that samples ordinal patterns from\\n\\n\\nany sort of time-series, creates a probability distribu-\\n\\n\\ntion of all possible permutations of those patterns, and\\n\\n\\ncalc', 'Highlights': [{'BeginOffset': 0, 'EndOffset': 300, 'TopAnswer': False, 'Type': 'STANDARD'}]}, 'DocumentURI': 'https://kendra-filter-2.s3.amazonaws.com/2407.11970v1.pdf', 'DocumentAttributes': [{'Key': '_source_uri', 'Value': {'StringValue': 'https://kendra-filter-2.s3.amazonaws.com/2407.11970v1.pdf'}}, {'Key': 's3_document_id', 'Value': {'StringValue': '2407.11970v1.pdf'}}, {'Key': '_excerpt_page_number', 'Value': {'LongValue': 17}}], 'ScoreAttributes': {'ScoreConfidence': 'MEDIUM'}, 'FeedbackToken': 'AYADePOi7DgDQIc4me21RSgAg8MAXwABABVhd3MtY3J5cHRvLXB1YmxpYy1rZXkAREEycDVVRGQ2QmlhWURtZ3BmaHlOa1k5cmlKN1gxSUZ5UGUrRTQ3b0FHd2FEcHRWRFN2R0t6WWhJbUlHam8zdkRRZz09AAEAB2F3cy1rbXMAS2Fybjphd3M6a21zOnVzLWVhc3QtMTo3OTQyODk5MjcwNzA6a2V5LzA4YjVkYTRmLWQyOWEtNDU3Mi04OTAwLTRkZjMzN2VjYzljYwC4AQIBAHjHtYTqclWDjf5WL-m_xsZq1b9mncgz9KNLQr3u2EEmpAHlKORkknuWYZ6LcdkWcsORAAAAfjB8BgkqhkiG9w0BBwagbzBtAgEAMGgGCSqGSIb3DQEHATAeBglghkgBZQMEAS4wEQQMT8XLA4DdO1kOez_KAgEQgDtgvJwRojj3N2VjK1PuBDuyVhvyNnHxYV1MjiXroQ5tcjR5IDtfyuibqGSD1qxivUD9kireRlq3SBDlbwIAAAAADAAAEAAAAAAAAAAAAAAAAAAHS5NG97OZGRrYSbIYhDVM_____wAAAAEAAAAAAAAAAAAAAAEAAAF2ekRth7ANuoGcnKoP6ex6RrjMqmaBq-n2F-pFfJo1FyOaz-C7KAMRD-VN4xayqdHN64FIqFx5qwpA79DpdD7-CAFAPXmfESNOcKI2iECbCPOHN370yz_2v1Lji_75YLSLK6cHnrJrYLuYAwir68rOeXDwKUviMlTn1cEpJinKVSH8YbzZOlvmPRg5slBkcWiZWN1oGxMS3qwNgdfc8-itBkk8mAjgj4qpY9dYCAvSaELnHKViG8C0jzV3NbRrXdikwBkrVPFP4xFVayu3YvKWjsouMVHlrIWciNCw0ZaYtsXcL3WW2-5-wDBihdP_luGiUrwe6hUyCEK6FQL2oxC78Lu4u_4kYGoessdWCpHKmzSg-ks-lHUR6cRDOMrg6AFzXzn1pVxCtApx2zHnOlvlDiraoh5Dso0dC2w2pAyCgsqRrc4wcfc8JBxSoka_aXekDN08bkZGURldOkqRxeYEz6eg4_BqS6ZSQD7QA4EdSJ1lmPvlgpy4yXbN4t2S_ODdsVTTFwo2AGcwZQIwZVsUaX9VRZ9gK1xth9NsrnSZAy48xON26kk5vpYMnpPN-Am2bMyPUK7i9dwfbrEkAjEA-dD8-hMtiDfeDELZuW3bgAzf1zk1haXnmLYluhzJMu6YBvsjN643sut65hFL43m0.7c5b44d8-adfd-4a3b-978c-1ce808d4bec9-0f09bbd3-9059-4291-86c9-b15b22a2354e'}\n",
      "{'Id': '7c5b44d8-adfd-4a3b-978c-1ce808d4bec9-8cf0f15a-7e77-46fc-9275-60b14b1607de', 'Type': 'DOCUMENT', 'Format': 'TEXT', 'AdditionalAttributes': [], 'DocumentId': 's3://kendra-filter-2/2407.11970v1.pdf', 'DocumentTitle': {'Text': '2407.11970v1.pdf', 'Highlights': []}, 'DocumentExcerpt': {'Text': '...4\\n\\n\\n5\\n\\n\\n6\\n\\n\\n7\\n\\n\\n8\\n\\n\\n9\\n\\n\\n3 https://peccary.readthedocs.io\\n4 https://github.com/soleyhyman/peccary\\n5 https://pypi.org/project/peccary/\\n\\n\\n\\nhttps://peccary.readthedocs.io\\n\\nhttps://github.com/soleyhyman/peccary\\n\\nhttps://pypi.org/project/peccary/\\n\\n\\n\\n\\n\\n18...', 'Highlights': [{'BeginOffset': 37, 'EndOffset': 44, 'TopAnswer': False, 'Type': 'STANDARD'}, {'BeginOffset': 92, 'EndOffset': 99, 'TopAnswer': False, 'Type': 'STANDARD'}, {'BeginOffset': 127, 'EndOffset': 134, 'TopAnswer': False, 'Type': 'STANDARD'}, {'BeginOffset': 147, 'EndOffset': 154, 'TopAnswer': False, 'Type': 'STANDARD'}, {'BeginOffset': 201, 'EndOffset': 208, 'TopAnswer': False, 'Type': 'STANDARD'}, {'BeginOffset': 235, 'EndOffset': 242, 'TopAnswer': False, 'Type': 'STANDARD'}]}, 'DocumentURI': 'https://kendra-filter-2.s3.amazonaws.com/2407.11970v1.pdf', 'DocumentAttributes': [{'Key': '_source_uri', 'Value': {'StringValue': 'https://kendra-filter-2.s3.amazonaws.com/2407.11970v1.pdf'}}, {'Key': 's3_document_id', 'Value': {'StringValue': '2407.11970v1.pdf'}}, {'Key': '_excerpt_page_number', 'Value': {'LongValue': 17}}], 'ScoreAttributes': {'ScoreConfidence': 'MEDIUM'}, 'FeedbackToken': 'AYADePOi7DgDQIc4me21RSgAg8MAXwABABVhd3MtY3J5cHRvLXB1YmxpYy1rZXkAREEycDVVRGQ2QmlhWURtZ3BmaHlOa1k5cmlKN1gxSUZ5UGUrRTQ3b0FHd2FEcHRWRFN2R0t6WWhJbUlHam8zdkRRZz09AAEAB2F3cy1rbXMAS2Fybjphd3M6a21zOnVzLWVhc3QtMTo3OTQyODk5MjcwNzA6a2V5LzA4YjVkYTRmLWQyOWEtNDU3Mi04OTAwLTRkZjMzN2VjYzljYwC4AQIBAHjHtYTqclWDjf5WL-m_xsZq1b9mncgz9KNLQr3u2EEmpAHlKORkknuWYZ6LcdkWcsORAAAAfjB8BgkqhkiG9w0BBwagbzBtAgEAMGgGCSqGSIb3DQEHATAeBglghkgBZQMEAS4wEQQMT8XLA4DdO1kOez_KAgEQgDtgvJwRojj3N2VjK1PuBDuyVhvyNnHxYV1MjiXroQ5tcjR5IDtfyuibqGSD1qxivUD9kireRlq3SBDlbwIAAAAADAAAEAAAAAAAAAAAAAAAAAAHS5NG97OZGRrYSbIYhDVM_____wAAAAEAAAAAAAAAAAAAAAEAAAF2ekRth7ANuoGcnKoP6ex6RrjMqmaBq-n2F-pFfJo1FyOaz-C7KAMRD-VN4xayqdHN64FIqFx5qwpA79DpdD7-CAFAPXmfESNOcKI2iECbCPOHN370yz_2v1Lji_75YLSLK6cHnrJrYLuYAwir68rOeXDwKUviMlTn1cEpJinKVSH8YbzZOlvmPRg5slBkcWiZWN1oGxMS3qwNgdfc8-itBkk8mAjgj4qpY9dYCAvSaELnHKViG8C0jzV3NbRrXdikwBkrVPFP4xFVayu3YvKWjsouMVHlrIWciNCw0ZaYtsXcL3WW2-5-wDBihdP_luGiUrwe6hUyCEK6FQL2oxC78Lu4u_4kYGoessdWCpHKmzSg-ks-lHUR6cRDOMrg6AFzXzn1pVxCtApx2zHnOlvlDiraoh5Dso0dC2w2pAyCgsqRrc4wcfc8JBxSoka_aXekDN08bkZGURldOkqRxeYEz6eg4_BqS6ZSQD7QA4EdSJ1lmPvlgpy4yXbN4t2S_ODdsVTTFwo2AGcwZQIwZVsUaX9VRZ9gK1xth9NsrnSZAy48xON26kk5vpYMnpPN-Am2bMyPUK7i9dwfbrEkAjEA-dD8-hMtiDfeDELZuW3bgAzf1zk1haXnmLYluhzJMu6YBvsjN643sut65hFL43m0.7c5b44d8-adfd-4a3b-978c-1ce808d4bec9-8cf0f15a-7e77-46fc-9275-60b14b1607de'}\n"
     ]
    }
   ],
   "source": [
    "result = kendra.query(\n",
    "    IndexId=kendra_index_id,\n",
    "    QueryText=\"What is PECCARY\",\n",
    "    UserContext={\n",
    "        \"Groups\": [\"HR\"]\n",
    "    }\n",
    ")\n",
    "for r in result[\"ResultItems\"]:\n",
    "    print(r)"
   ]
  }
 ],
 "metadata": {
  "kernelspec": {
   "display_name": ".venv",
   "language": "python",
   "name": "python3"
  },
  "language_info": {
   "codemirror_mode": {
    "name": "ipython",
    "version": 3
   },
   "file_extension": ".py",
   "mimetype": "text/x-python",
   "name": "python",
   "nbconvert_exporter": "python",
   "pygments_lexer": "ipython3",
   "version": "3.11.9"
  }
 },
 "nbformat": 4,
 "nbformat_minor": 2
}
